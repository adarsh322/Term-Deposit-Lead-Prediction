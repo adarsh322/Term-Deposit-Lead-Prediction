{
 "cells": [
  {
   "cell_type": "code",
   "execution_count": null,
   "metadata": {
    "id": "NanIcxZPgRzT"
   },
   "outputs": [],
   "source": [
    "import pandas as pd\n",
    "import numpy as np\n",
    "import sklearn"
   ]
  },
  {
   "cell_type": "code",
   "execution_count": null,
   "metadata": {
    "id": "eMnn7rDej2VA"
   },
   "outputs": [],
   "source": [
    "train = pd.read_csv('/content/cleaned.csv')"
   ]
  },
  {
   "cell_type": "code",
   "execution_count": null,
   "metadata": {
    "id": "avZuEEbHkHDa"
   },
   "outputs": [],
   "source": [
    "X = pd.get_dummies(train.drop('customer_id',axis=1),drop_first=True)"
   ]
  },
  {
   "cell_type": "code",
   "execution_count": null,
   "metadata": {
    "id": "laKJeP7qkius"
   },
   "outputs": [],
   "source": [
    "from sklearn import preprocessing"
   ]
  },
  {
   "cell_type": "code",
   "execution_count": null,
   "metadata": {
    "id": "GPoOOfUEksMt"
   },
   "outputs": [],
   "source": [
    "normalizer=preprocessing.MinMaxScaler()"
   ]
  },
  {
   "cell_type": "code",
   "execution_count": null,
   "metadata": {
    "id": "v-f9sKA0kon9"
   },
   "outputs": [],
   "source": [
    "X['customer_age']=normalizer.fit_transform(np.array(X['customer_age']).reshape(-1,1))\n",
    "X['num_contacts_in_campaign'] = normalizer.fit_transform(np.array(X['num_contacts_in_campaign']).reshape(-1,1))\n",
    "X['balance'] = normalizer.fit_transform(np.array(X['balance']).reshape(-1,1))\n",
    "X['day_of_month'] = normalizer.fit_transform(np.array(X['day_of_month']).reshape(-1,1))\n",
    "X['last_contact_duration'] = normalizer.fit_transform(np.array(X['last_contact_duration']).reshape(-1,1))"
   ]
  },
  {
   "cell_type": "code",
   "execution_count": null,
   "metadata": {
    "id": "gA7tpkiEkqYP"
   },
   "outputs": [],
   "source": [
    "X.drop('Unnamed: 0',inplace=True,axis=1)"
   ]
  },
  {
   "cell_type": "code",
   "execution_count": null,
   "metadata": {
    "id": "N3h6ymaXkxco"
   },
   "outputs": [],
   "source": [
    "import imblearn"
   ]
  },
  {
   "cell_type": "code",
   "execution_count": null,
   "metadata": {
    "id": "8g29TMdHlD1l"
   },
   "outputs": [],
   "source": [
    "X = X.drop(['term_deposit_subscribed'],axis=1)\n",
    "y = train['term_deposit_subscribed']"
   ]
  },
  {
   "cell_type": "code",
   "execution_count": null,
   "metadata": {
    "id": "avMvbnLOlKdr"
   },
   "outputs": [],
   "source": [
    "from sklearn.model_selection import train_test_split\n",
    "X_train,X_test,y_train,y_test= train_test_split(X,y,test_size=0.2,random_state=101)"
   ]
  },
  {
   "cell_type": "code",
   "execution_count": null,
   "metadata": {
    "id": "i3vggHVUk0EM"
   },
   "outputs": [],
   "source": [
    "from imblearn.ensemble import BalancedRandomForestClassifier\n",
    "from sklearn.ensemble import RandomForestClassifier\n",
    "#Create an instance"
   ]
  },
  {
   "cell_type": "code",
   "execution_count": null,
   "metadata": {
    "id": "CXvVoLWHnviK"
   },
   "outputs": [],
   "source": [
    "from sklearn.model_selection import KFold, StratifiedKFold, cross_val_score"
   ]
  },
  {
   "cell_type": "code",
   "execution_count": null,
   "metadata": {
    "id": "OScRDj-JtQsk"
   },
   "outputs": [],
   "source": [
    "kf =KFold(n_splits=5, shuffle=True, random_state=42)\n"
   ]
  },
  {
   "cell_type": "code",
   "execution_count": null,
   "metadata": {
    "colab": {
     "base_uri": "https://localhost:8080/"
    },
    "id": "C_Z5FAIKuhqS",
    "outputId": "42a7192b-0bc7-4df7-a962-19a9807af126"
   },
   "outputs": [
    {
     "name": "stdout",
     "output_type": "stream",
     "text": [
      "Fold:1, Train set: 19018, Test set:4755\n",
      "Fold:2, Train set: 19018, Test set:4755\n",
      "Fold:3, Train set: 19018, Test set:4755\n",
      "Fold:4, Train set: 19019, Test set:4754\n",
      "Fold:5, Train set: 19019, Test set:4754\n"
     ]
    }
   ],
   "source": [
    "cnt=1\n",
    "for train_index, test_index in kf.split(X, y):\n",
    "    print(f'Fold:{cnt}, Train set: {len(train_index)}, Test set:{len(test_index)}')\n",
    "    cnt += 1"
   ]
  },
  {
   "cell_type": "code",
   "execution_count": null,
   "metadata": {
    "id": "tWXFYKT5uvkF"
   },
   "outputs": [],
   "source": [
    "score = cross_val_score(RandomForestClassifier(), X, y, cv= kf, scoring=\"accuracy\")"
   ]
  },
  {
   "cell_type": "code",
   "execution_count": null,
   "metadata": {
    "colab": {
     "base_uri": "https://localhost:8080/"
    },
    "id": "T-RQ1LsOvNnH",
    "outputId": "53cf305d-5cc7-493d-b048-c2598280f464"
   },
   "outputs": [
    {
     "data": {
      "text/plain": [
       "array([0.90473186, 0.90368034, 0.90431125, 0.90492217, 0.89945309])"
      ]
     },
     "execution_count": 18,
     "metadata": {},
     "output_type": "execute_result"
    }
   ],
   "source": [
    "score"
   ]
  },
  {
   "cell_type": "code",
   "execution_count": null,
   "metadata": {
    "colab": {
     "base_uri": "https://localhost:8080/"
    },
    "id": "tS3Zf7YXvXlM",
    "outputId": "cfddf533-ae7c-4832-ff92-1823cdcb215f"
   },
   "outputs": [
    {
     "name": "stdout",
     "output_type": "stream",
     "text": [
      "Average score(50): 0.902\n",
      "Average score(100): 0.903\n",
      "Average score(150): 0.904\n",
      "Average score(200): 0.904\n",
      "Average score(250): 0.904\n",
      "Average score(300): 0.904\n",
      "Average score(350): 0.904\n"
     ]
    }
   ],
   "source": [
    "n_estimators = [50, 100, 150, 200, 250, 300, 350]\n",
    "\n",
    "for val in n_estimators:\n",
    "    score = cross_val_score(RandomForestClassifier(n_estimators= val, random_state= 42), X, y, cv= kf, scoring=\"accuracy\")\n",
    "    print(f'Average score({val}): {\"{:.3f}\".format(score.mean())}')"
   ]
  },
  {
   "cell_type": "code",
   "execution_count": null,
   "metadata": {
    "colab": {
     "base_uri": "https://localhost:8080/"
    },
    "id": "OqJlrrPrv8Ce",
    "outputId": "65537001-66d0-4f36-b302-28dfd62f02d4"
   },
   "outputs": [
    {
     "name": "stdout",
     "output_type": "stream",
     "text": [
      "Requirement already satisfied: hyperopt in /usr/local/lib/python3.7/dist-packages (0.1.2)\n",
      "Requirement already satisfied: six in /usr/local/lib/python3.7/dist-packages (from hyperopt) (1.15.0)\n",
      "Requirement already satisfied: scipy in /usr/local/lib/python3.7/dist-packages (from hyperopt) (1.4.1)\n",
      "Requirement already satisfied: numpy in /usr/local/lib/python3.7/dist-packages (from hyperopt) (1.21.5)\n",
      "Requirement already satisfied: tqdm in /usr/local/lib/python3.7/dist-packages (from hyperopt) (4.63.0)\n",
      "Requirement already satisfied: future in /usr/local/lib/python3.7/dist-packages (from hyperopt) (0.16.0)\n",
      "Requirement already satisfied: networkx in /usr/local/lib/python3.7/dist-packages (from hyperopt) (2.6.3)\n",
      "Requirement already satisfied: pymongo in /usr/local/lib/python3.7/dist-packages (from hyperopt) (4.0.2)\n"
     ]
    }
   ],
   "source": [
    "pip install hyperopt"
   ]
  },
  {
   "cell_type": "code",
   "execution_count": null,
   "metadata": {
    "id": "EeV7Kk8z5hYY"
   },
   "outputs": [],
   "source": [
    "from xgboost import XGBClassifier"
   ]
  },
  {
   "cell_type": "code",
   "execution_count": null,
   "metadata": {
    "id": "YAccIlm70gTV"
   },
   "outputs": [],
   "source": [
    "from hyperopt import hp,STATUS_OK"
   ]
  },
  {
   "cell_type": "code",
   "execution_count": null,
   "metadata": {
    "id": "bvc-honO0jud"
   },
   "outputs": [],
   "source": [
    "space= { 'max_depth': hp.quniform (\"max_depth\", 3, 18, 1),\n",
    "        'gamma' : hp.uniform ('gamma', 1,9),\n",
    "        'reg_alpha': hp.quniform ('reg_alpha', 40, 180, 1),\n",
    "        'reg_lambda' : hp.uniform('reg_lambda', 0,1),\n",
    "        'colsample_bytree' : hp.uniform('colsample_bytree', 0.5,1),\n",
    "        'min_child_weight': hp.quniform ('min_child_weight', 0, 10, 1),\n",
    "        'n_estimators': 180,\n",
    "        'seed': 0}"
   ]
  },
  {
   "cell_type": "code",
   "execution_count": null,
   "metadata": {
    "id": "C4uEWYQ50oqi"
   },
   "outputs": [],
   "source": [
    "def objective (space):\n",
    "  clf=XGBClassifier(n_estimators =space ['n_estimators'], max_depth = int (space['max_depth']),\n",
    "                    gamma = space ['gamma'],reg_alpha = int(space ['reg_alpha']),min_child_weight=int(space ['min_child_weight']),\n",
    "                    colsample_bytree=int (space ['colsample_bytree']))\n",
    "  evaluation = [( X_train, y_train), (X_test, y_test)]\n",
    "  clf.fit (X_train, y_train,eval_set=evaluation, eval_metric=\"auc\", early_stopping_rounds=10, verbose=False)\n",
    "  pred = clf.predict (X_test)\n",
    "  accuracy = accuracy_score (y_test, pred>0.5)\n",
    "  print (\"SCORE: \", accuracy)\n",
    "  return {'loss': -accuracy, 'status': STATUS_OK }"
   ]
  },
  {
   "cell_type": "code",
   "execution_count": null,
   "metadata": {
    "id": "x297PyCu4Ip6"
   },
   "outputs": [],
   "source": [
    "import hyperopt"
   ]
  },
  {
   "cell_type": "code",
   "execution_count": null,
   "metadata": {
    "id": "io32w77t3ul4"
   },
   "outputs": [],
   "source": [
    "trials = hyperopt.Trials()"
   ]
  },
  {
   "cell_type": "code",
   "execution_count": null,
   "metadata": {
    "id": "V1S8hdwG4vKb"
   },
   "outputs": [],
   "source": [
    "from imblearn.over_sampling import SMOTE"
   ]
  },
  {
   "cell_type": "code",
   "execution_count": null,
   "metadata": {
    "id": "JRE0nkxU4y-X"
   },
   "outputs": [],
   "source": [
    "oversampler=SMOTE(sampling_strategy=0.75)"
   ]
  },
  {
   "cell_type": "code",
   "execution_count": null,
   "metadata": {
    "id": "d-Klp8tb32T_"
   },
   "outputs": [],
   "source": [
    "X_train,y_train=oversampler.fit_resample(X_train, y_train)"
   ]
  },
  {
   "cell_type": "code",
   "execution_count": null,
   "metadata": {
    "colab": {
     "base_uri": "https://localhost:8080/"
    },
    "id": "uGkmoT_I43OF",
    "outputId": "f2fb594c-1c16-4d80-95cc-7421999c4fe9"
   },
   "outputs": [
    {
     "data": {
      "text/plain": [
       "(array([0, 1]), array([16975, 12731]))"
      ]
     },
     "execution_count": 30,
     "metadata": {},
     "output_type": "execute_result"
    }
   ],
   "source": [
    "np.unique(y_train,return_counts=True)"
   ]
  },
  {
   "cell_type": "code",
   "execution_count": null,
   "metadata": {
    "id": "LBV-fi2b5O8T"
   },
   "outputs": [],
   "source": [
    "from hyperopt import fmin, tpe"
   ]
  },
  {
   "cell_type": "code",
   "execution_count": null,
   "metadata": {
    "id": "oMz9Xpzjmfk_"
   },
   "outputs": [],
   "source": [
    "from sklearn.metrics import accuracy_score,confusion_matrix,classification_report"
   ]
  },
  {
   "cell_type": "code",
   "execution_count": null,
   "metadata": {
    "colab": {
     "base_uri": "https://localhost:8080/"
    },
    "id": "zEyedV70463q",
    "outputId": "31f2de12-2613-4a48-f612-d0d04cdc1a3b"
   },
   "outputs": [
    {
     "name": "stdout",
     "output_type": "stream",
     "text": [
      "SCORE: \n",
      "0.8958990536277602\n",
      "SCORE: \n",
      "0.8963196635120926\n",
      "SCORE: \n",
      "0.8969505783385909\n",
      "SCORE: \n",
      "0.895478443743428\n",
      "SCORE: \n",
      "0.8956887486855941\n",
      "SCORE: \n",
      "0.895478443743428\n",
      "SCORE: \n",
      "0.8963196635120926\n",
      "SCORE: \n",
      "0.8956887486855941\n",
      "SCORE: \n",
      "0.8956887486855941\n",
      "SCORE: \n",
      "0.8963196635120926\n",
      "SCORE: \n",
      "0.8975814931650894\n",
      "SCORE: \n",
      "0.895478443743428\n",
      "SCORE: \n",
      "0.8958990536277602\n",
      "SCORE: \n",
      "0.8969505783385909\n",
      "SCORE: \n",
      "0.8973711882229233\n",
      "SCORE: \n",
      "0.8956887486855941\n",
      "SCORE: \n",
      "0.8956887486855941\n",
      "SCORE: \n",
      "0.8975814931650894\n",
      "SCORE: \n",
      "0.8956887486855941\n",
      "SCORE: \n",
      "0.8950578338590957\n",
      "SCORE: \n",
      "0.8990536277602523\n",
      "SCORE: \n",
      "0.8973711882229233\n",
      "SCORE: \n",
      "0.8988433228180862\n",
      "SCORE: \n",
      "0.8980021030494216\n",
      "SCORE: \n",
      "0.8980021030494216\n",
      "SCORE: \n",
      "0.8982124079915877\n",
      "SCORE: \n",
      "0.8965299684542587\n",
      "SCORE: \n",
      "0.894006309148265\n",
      "SCORE: \n",
      "0.897160883280757\n",
      "SCORE: \n",
      "0.8986330178759201\n",
      "SCORE: \n",
      "0.8982124079915877\n",
      "SCORE: \n",
      "0.895478443743428\n",
      "SCORE: \n",
      "0.8975814931650894\n",
      "SCORE: \n",
      "0.8967402733964248\n",
      "SCORE: \n",
      "0.8956887486855941\n",
      "SCORE: \n",
      "0.8948475289169295\n",
      "SCORE: \n",
      "0.8961093585699264\n",
      "SCORE: \n",
      "0.8965299684542587\n",
      "SCORE: \n",
      "0.897160883280757\n",
      "SCORE: \n",
      "0.897160883280757\n",
      "SCORE: \n",
      "0.895478443743428\n",
      "SCORE: \n",
      "0.8963196635120926\n",
      "SCORE: \n",
      "0.8963196635120926\n",
      "SCORE: \n",
      "0.8927444794952681\n",
      "SCORE: \n",
      "0.8958990536277602\n",
      "SCORE: \n",
      "0.8980021030494216\n",
      "SCORE: \n",
      "0.8956887486855941\n",
      "SCORE: \n",
      "0.8967402733964248\n",
      "SCORE: \n",
      "0.8982124079915877\n",
      "SCORE: \n",
      "0.8958990536277602\n",
      "SCORE: \n",
      "0.8975814931650894\n",
      "SCORE: \n",
      "0.8956887486855941\n",
      "SCORE: \n",
      "0.8956887486855941\n",
      "SCORE: \n",
      "0.8963196635120926\n",
      "SCORE: \n",
      "0.8982124079915877\n",
      "SCORE: \n",
      "0.8973711882229233\n",
      "SCORE: \n",
      "0.8965299684542587\n",
      "SCORE: \n",
      "0.8973711882229233\n",
      "SCORE: \n",
      "0.8956887486855941\n",
      "SCORE: \n",
      "0.8980021030494216\n",
      "SCORE: \n",
      "0.897160883280757\n",
      "SCORE: \n",
      "0.8973711882229233\n",
      "SCORE: \n",
      "0.895478443743428\n",
      "SCORE: \n",
      "0.8952681388012619\n",
      "SCORE: \n",
      "0.8975814931650894\n",
      "SCORE: \n",
      "0.898422712933754\n",
      "SCORE: \n",
      "0.8975814931650894\n",
      "SCORE: \n",
      "0.8986330178759201\n",
      "SCORE: \n",
      "0.8977917981072555\n",
      "SCORE: \n",
      "0.8982124079915877\n",
      "SCORE: \n",
      "0.897160883280757\n",
      "SCORE: \n",
      "0.8963196635120926\n",
      "SCORE: \n",
      "0.897160883280757\n",
      "SCORE: \n",
      "0.8967402733964248\n",
      "SCORE: \n",
      "0.8965299684542587\n",
      "SCORE: \n",
      "0.8980021030494216\n",
      "SCORE: \n",
      "0.8975814931650894\n",
      "SCORE: \n",
      "0.8975814931650894\n",
      "SCORE: \n",
      "0.8961093585699264\n",
      "SCORE: \n",
      "0.8963196635120926\n",
      "SCORE: \n",
      "0.8973711882229233\n",
      "SCORE: \n",
      "0.8982124079915877\n",
      "SCORE: \n",
      "0.8982124079915877\n",
      "SCORE: \n",
      "0.8963196635120926\n",
      "SCORE: \n",
      "0.8965299684542587\n",
      "SCORE: \n",
      "0.8982124079915877\n",
      "SCORE: \n",
      "0.894006309148265\n",
      "SCORE: \n",
      "0.8961093585699264\n",
      "SCORE: \n",
      "0.8965299684542587\n",
      "SCORE: \n",
      "0.8963196635120926\n",
      "SCORE: \n",
      "0.8969505783385909\n",
      "SCORE: \n",
      "0.8975814931650894\n",
      "SCORE: \n",
      "0.8975814931650894\n",
      "SCORE: \n",
      "0.895478443743428\n",
      "SCORE: \n",
      "0.8958990536277602\n",
      "SCORE: \n",
      "0.8982124079915877\n",
      "SCORE: \n",
      "0.8973711882229233\n",
      "SCORE: \n",
      "0.898422712933754\n",
      "SCORE: \n",
      "0.8967402733964248\n",
      "SCORE: \n",
      "0.8952681388012619\n",
      "100%|██████████| 100/100 [01:44<00:00,  1.05s/it, best loss: -0.8990536277602523]\n"
     ]
    }
   ],
   "source": [
    "best_hyperparams=fmin(fn=objective,space=space,algo=tpe.suggest,max_evals=100,trials=trials)"
   ]
  },
  {
   "cell_type": "code",
   "execution_count": null,
   "metadata": {
    "colab": {
     "base_uri": "https://localhost:8080/"
    },
    "id": "Wuu2k-8l5NyO",
    "outputId": "84337a7c-0832-42f8-aea6-6811b6b0115b"
   },
   "outputs": [
    {
     "data": {
      "text/plain": [
       "{'colsample_bytree': 0.8270036744423783,\n",
       " 'gamma': 2.8835931053514643,\n",
       " 'max_depth': 3.0,\n",
       " 'min_child_weight': 5.0,\n",
       " 'reg_alpha': 177.0,\n",
       " 'reg_lambda': 0.8009277610301544}"
      ]
     },
     "execution_count": 34,
     "metadata": {},
     "output_type": "execute_result"
    }
   ],
   "source": [
    "best_hyperparams"
   ]
  },
  {
   "cell_type": "code",
   "execution_count": null,
   "metadata": {
    "id": "abp9ULae6aFY"
   },
   "outputs": [],
   "source": [
    "clf_best_model=XGBClassifier(colsample_bytree= 0.6983247169581334,\n",
    "                              gamma=4.89914799141072,\n",
    "                              max_depth= 17,\n",
    "                              min_child_weight= 7.0,\n",
    "                              reg_alpha= 40.0,\n",
    "                              reg_lambda= 0.6523469701368025)"
   ]
  },
  {
   "cell_type": "code",
   "execution_count": null,
   "metadata": {
    "colab": {
     "base_uri": "https://localhost:8080/"
    },
    "id": "-fGwpsv86j_N",
    "outputId": "cc122ac4-b5b7-4c27-ec05-c6f4fd130ea3"
   },
   "outputs": [
    {
     "data": {
      "text/plain": [
       "XGBClassifier(colsample_bytree=0.6983247169581334, gamma=4.89914799141072,\n",
       "              max_depth=17, min_child_weight=7.0, reg_alpha=40.0,\n",
       "              reg_lambda=0.6523469701368025)"
      ]
     },
     "execution_count": 46,
     "metadata": {},
     "output_type": "execute_result"
    }
   ],
   "source": [
    "clf_best_model.fit(X_train,y_train)"
   ]
  },
  {
   "cell_type": "code",
   "execution_count": null,
   "metadata": {
    "id": "puFHf9m-6pDX"
   },
   "outputs": [],
   "source": [
    "pred=clf_best_model.predict(X_test)"
   ]
  },
  {
   "cell_type": "code",
   "execution_count": null,
   "metadata": {
    "colab": {
     "base_uri": "https://localhost:8080/"
    },
    "id": "E2vhZYzw7nmR",
    "outputId": "154ca4fd-2fd9-45bd-a3b6-2e3751471c6e"
   },
   "outputs": [
    {
     "name": "stdout",
     "output_type": "stream",
     "text": [
      "              precision    recall  f1-score   support\n",
      "\n",
      "           0       0.93      0.95      0.94      4270\n",
      "           1       0.49      0.40      0.44       485\n",
      "\n",
      "    accuracy                           0.90      4755\n",
      "   macro avg       0.71      0.68      0.69      4755\n",
      "weighted avg       0.89      0.90      0.89      4755\n",
      "\n"
     ]
    }
   ],
   "source": [
    "print(classification_report(y_test,pred))"
   ]
  },
  {
   "cell_type": "code",
   "execution_count": null,
   "metadata": {
    "colab": {
     "base_uri": "https://localhost:8080/"
    },
    "id": "Gbx1b6hC7tsO",
    "outputId": "0bfb6fea-fde7-4ae4-c2f7-6ffa93a4c335"
   },
   "outputs": [
    {
     "name": "stdout",
     "output_type": "stream",
     "text": [
      "[[4068  202]\n",
      " [ 292  193]]\n"
     ]
    }
   ],
   "source": [
    "print(confusion_matrix(y_test,pred))"
   ]
  },
  {
   "cell_type": "code",
   "execution_count": null,
   "metadata": {
    "id": "3Fpat6oc77bf"
   },
   "outputs": [],
   "source": [
    "test = pd.read_csv('cleaned_test.csv')"
   ]
  },
  {
   "cell_type": "code",
   "execution_count": null,
   "metadata": {
    "colab": {
     "base_uri": "https://localhost:8080/",
     "height": 288
    },
    "id": "Xa-B_-QhveHY",
    "outputId": "fe68a6d3-3411-42e2-cae6-19658a42b663"
   },
   "outputs": [
    {
     "data": {
      "text/html": [
       "\n",
       "  <div id=\"df-c13bc708-2992-41e4-b7da-2a852cf8fc89\">\n",
       "    <div class=\"colab-df-container\">\n",
       "      <div>\n",
       "<style scoped>\n",
       "    .dataframe tbody tr th:only-of-type {\n",
       "        vertical-align: middle;\n",
       "    }\n",
       "\n",
       "    .dataframe tbody tr th {\n",
       "        vertical-align: top;\n",
       "    }\n",
       "\n",
       "    .dataframe thead th {\n",
       "        text-align: right;\n",
       "    }\n",
       "</style>\n",
       "<table border=\"1\" class=\"dataframe\">\n",
       "  <thead>\n",
       "    <tr style=\"text-align: right;\">\n",
       "      <th></th>\n",
       "      <th>Unnamed: 0</th>\n",
       "      <th>customer_id</th>\n",
       "      <th>customer_age</th>\n",
       "      <th>job_type</th>\n",
       "      <th>marital</th>\n",
       "      <th>education</th>\n",
       "      <th>default</th>\n",
       "      <th>balance</th>\n",
       "      <th>housing_loan</th>\n",
       "      <th>personal_loan</th>\n",
       "      <th>communication_type</th>\n",
       "      <th>last_contact_duration</th>\n",
       "      <th>day_of_month</th>\n",
       "      <th>month</th>\n",
       "      <th>num_contacts_in_campaign</th>\n",
       "      <th>num_contacts_prev_campaign</th>\n",
       "      <th>prev_campaign_outcome</th>\n",
       "    </tr>\n",
       "  </thead>\n",
       "  <tbody>\n",
       "    <tr>\n",
       "      <th>0</th>\n",
       "      <td>0</td>\n",
       "      <td>id_43823</td>\n",
       "      <td>28.0</td>\n",
       "      <td>management</td>\n",
       "      <td>single</td>\n",
       "      <td>tertiary</td>\n",
       "      <td>no</td>\n",
       "      <td>285.0</td>\n",
       "      <td>yes</td>\n",
       "      <td>no</td>\n",
       "      <td>unknown</td>\n",
       "      <td>849</td>\n",
       "      <td>26</td>\n",
       "      <td>jun</td>\n",
       "      <td>4.0</td>\n",
       "      <td>0</td>\n",
       "      <td>unknown</td>\n",
       "    </tr>\n",
       "    <tr>\n",
       "      <th>1</th>\n",
       "      <td>1</td>\n",
       "      <td>id_10523</td>\n",
       "      <td>46.0</td>\n",
       "      <td>technician</td>\n",
       "      <td>married</td>\n",
       "      <td>secondary</td>\n",
       "      <td>no</td>\n",
       "      <td>656.0</td>\n",
       "      <td>no</td>\n",
       "      <td>no</td>\n",
       "      <td>cellular</td>\n",
       "      <td>990</td>\n",
       "      <td>5</td>\n",
       "      <td>feb</td>\n",
       "      <td>4.0</td>\n",
       "      <td>0</td>\n",
       "      <td>unknown</td>\n",
       "    </tr>\n",
       "    <tr>\n",
       "      <th>2</th>\n",
       "      <td>2</td>\n",
       "      <td>id_43951</td>\n",
       "      <td>34.0</td>\n",
       "      <td>services</td>\n",
       "      <td>single</td>\n",
       "      <td>secondary</td>\n",
       "      <td>no</td>\n",
       "      <td>2.0</td>\n",
       "      <td>yes</td>\n",
       "      <td>no</td>\n",
       "      <td>unknown</td>\n",
       "      <td>886</td>\n",
       "      <td>20</td>\n",
       "      <td>may</td>\n",
       "      <td>3.0</td>\n",
       "      <td>0</td>\n",
       "      <td>unknown</td>\n",
       "    </tr>\n",
       "    <tr>\n",
       "      <th>3</th>\n",
       "      <td>3</td>\n",
       "      <td>id_12681</td>\n",
       "      <td>65.0</td>\n",
       "      <td>retired</td>\n",
       "      <td>married</td>\n",
       "      <td>primary</td>\n",
       "      <td>no</td>\n",
       "      <td>2880.0</td>\n",
       "      <td>no</td>\n",
       "      <td>no</td>\n",
       "      <td>cellular</td>\n",
       "      <td>913</td>\n",
       "      <td>23</td>\n",
       "      <td>apr</td>\n",
       "      <td>1.0</td>\n",
       "      <td>0</td>\n",
       "      <td>unknown</td>\n",
       "    </tr>\n",
       "    <tr>\n",
       "      <th>4</th>\n",
       "      <td>4</td>\n",
       "      <td>id_2153</td>\n",
       "      <td>52.0</td>\n",
       "      <td>blue-collar</td>\n",
       "      <td>married</td>\n",
       "      <td>tertiary</td>\n",
       "      <td>no</td>\n",
       "      <td>1779.0</td>\n",
       "      <td>no</td>\n",
       "      <td>no</td>\n",
       "      <td>cellular</td>\n",
       "      <td>703</td>\n",
       "      <td>19</td>\n",
       "      <td>nov</td>\n",
       "      <td>3.0</td>\n",
       "      <td>1</td>\n",
       "      <td>failure</td>\n",
       "    </tr>\n",
       "  </tbody>\n",
       "</table>\n",
       "</div>\n",
       "      <button class=\"colab-df-convert\" onclick=\"convertToInteractive('df-c13bc708-2992-41e4-b7da-2a852cf8fc89')\"\n",
       "              title=\"Convert this dataframe to an interactive table.\"\n",
       "              style=\"display:none;\">\n",
       "        \n",
       "  <svg xmlns=\"http://www.w3.org/2000/svg\" height=\"24px\"viewBox=\"0 0 24 24\"\n",
       "       width=\"24px\">\n",
       "    <path d=\"M0 0h24v24H0V0z\" fill=\"none\"/>\n",
       "    <path d=\"M18.56 5.44l.94 2.06.94-2.06 2.06-.94-2.06-.94-.94-2.06-.94 2.06-2.06.94zm-11 1L8.5 8.5l.94-2.06 2.06-.94-2.06-.94L8.5 2.5l-.94 2.06-2.06.94zm10 10l.94 2.06.94-2.06 2.06-.94-2.06-.94-.94-2.06-.94 2.06-2.06.94z\"/><path d=\"M17.41 7.96l-1.37-1.37c-.4-.4-.92-.59-1.43-.59-.52 0-1.04.2-1.43.59L10.3 9.45l-7.72 7.72c-.78.78-.78 2.05 0 2.83L4 21.41c.39.39.9.59 1.41.59.51 0 1.02-.2 1.41-.59l7.78-7.78 2.81-2.81c.8-.78.8-2.07 0-2.86zM5.41 20L4 18.59l7.72-7.72 1.47 1.35L5.41 20z\"/>\n",
       "  </svg>\n",
       "      </button>\n",
       "      \n",
       "  <style>\n",
       "    .colab-df-container {\n",
       "      display:flex;\n",
       "      flex-wrap:wrap;\n",
       "      gap: 12px;\n",
       "    }\n",
       "\n",
       "    .colab-df-convert {\n",
       "      background-color: #E8F0FE;\n",
       "      border: none;\n",
       "      border-radius: 50%;\n",
       "      cursor: pointer;\n",
       "      display: none;\n",
       "      fill: #1967D2;\n",
       "      height: 32px;\n",
       "      padding: 0 0 0 0;\n",
       "      width: 32px;\n",
       "    }\n",
       "\n",
       "    .colab-df-convert:hover {\n",
       "      background-color: #E2EBFA;\n",
       "      box-shadow: 0px 1px 2px rgba(60, 64, 67, 0.3), 0px 1px 3px 1px rgba(60, 64, 67, 0.15);\n",
       "      fill: #174EA6;\n",
       "    }\n",
       "\n",
       "    [theme=dark] .colab-df-convert {\n",
       "      background-color: #3B4455;\n",
       "      fill: #D2E3FC;\n",
       "    }\n",
       "\n",
       "    [theme=dark] .colab-df-convert:hover {\n",
       "      background-color: #434B5C;\n",
       "      box-shadow: 0px 1px 3px 1px rgba(0, 0, 0, 0.15);\n",
       "      filter: drop-shadow(0px 1px 2px rgba(0, 0, 0, 0.3));\n",
       "      fill: #FFFFFF;\n",
       "    }\n",
       "  </style>\n",
       "\n",
       "      <script>\n",
       "        const buttonEl =\n",
       "          document.querySelector('#df-c13bc708-2992-41e4-b7da-2a852cf8fc89 button.colab-df-convert');\n",
       "        buttonEl.style.display =\n",
       "          google.colab.kernel.accessAllowed ? 'block' : 'none';\n",
       "\n",
       "        async function convertToInteractive(key) {\n",
       "          const element = document.querySelector('#df-c13bc708-2992-41e4-b7da-2a852cf8fc89');\n",
       "          const dataTable =\n",
       "            await google.colab.kernel.invokeFunction('convertToInteractive',\n",
       "                                                     [key], {});\n",
       "          if (!dataTable) return;\n",
       "\n",
       "          const docLinkHtml = 'Like what you see? Visit the ' +\n",
       "            '<a target=\"_blank\" href=https://colab.research.google.com/notebooks/data_table.ipynb>data table notebook</a>'\n",
       "            + ' to learn more about interactive tables.';\n",
       "          element.innerHTML = '';\n",
       "          dataTable['output_type'] = 'display_data';\n",
       "          await google.colab.output.renderOutput(dataTable, element);\n",
       "          const docLink = document.createElement('div');\n",
       "          docLink.innerHTML = docLinkHtml;\n",
       "          element.appendChild(docLink);\n",
       "        }\n",
       "      </script>\n",
       "    </div>\n",
       "  </div>\n",
       "  "
      ],
      "text/plain": [
       "   Unnamed: 0 customer_id  customer_age     job_type  marital  education  \\\n",
       "0           0    id_43823          28.0   management   single   tertiary   \n",
       "1           1    id_10523          46.0   technician  married  secondary   \n",
       "2           2    id_43951          34.0     services   single  secondary   \n",
       "3           3    id_12681          65.0      retired  married    primary   \n",
       "4           4     id_2153          52.0  blue-collar  married   tertiary   \n",
       "\n",
       "  default  balance housing_loan personal_loan communication_type  \\\n",
       "0      no    285.0          yes            no            unknown   \n",
       "1      no    656.0           no            no           cellular   \n",
       "2      no      2.0          yes            no            unknown   \n",
       "3      no   2880.0           no            no           cellular   \n",
       "4      no   1779.0           no            no           cellular   \n",
       "\n",
       "   last_contact_duration  day_of_month month  num_contacts_in_campaign  \\\n",
       "0                    849            26   jun                       4.0   \n",
       "1                    990             5   feb                       4.0   \n",
       "2                    886            20   may                       3.0   \n",
       "3                    913            23   apr                       1.0   \n",
       "4                    703            19   nov                       3.0   \n",
       "\n",
       "   num_contacts_prev_campaign prev_campaign_outcome  \n",
       "0                           0               unknown  \n",
       "1                           0               unknown  \n",
       "2                           0               unknown  \n",
       "3                           0               unknown  \n",
       "4                           1               failure  "
      ]
     },
     "execution_count": 51,
     "metadata": {},
     "output_type": "execute_result"
    }
   ],
   "source": [
    "test.head()"
   ]
  },
  {
   "cell_type": "code",
   "execution_count": null,
   "metadata": {
    "id": "no6RzDImvgtT"
   },
   "outputs": [],
   "source": [
    "test.drop('Unnamed: 0',axis=1,inplace=True)"
   ]
  },
  {
   "cell_type": "code",
   "execution_count": null,
   "metadata": {
    "id": "slT1lTjJvktK"
   },
   "outputs": [],
   "source": [
    "final = test.drop('customer_id',axis=1)"
   ]
  },
  {
   "cell_type": "code",
   "execution_count": null,
   "metadata": {
    "id": "rukK4eV9vou7"
   },
   "outputs": [],
   "source": [
    "final = pd.get_dummies(final,drop_first=True)"
   ]
  },
  {
   "cell_type": "code",
   "execution_count": null,
   "metadata": {
    "colab": {
     "base_uri": "https://localhost:8080/",
     "height": 317
    },
    "id": "GQcpor5xvr_O",
    "outputId": "d234d2ff-ed79-4e7d-81ec-e5e542e946e2"
   },
   "outputs": [
    {
     "data": {
      "text/html": [
       "\n",
       "  <div id=\"df-4d754e47-1e8e-41be-9dfd-227065944804\">\n",
       "    <div class=\"colab-df-container\">\n",
       "      <div>\n",
       "<style scoped>\n",
       "    .dataframe tbody tr th:only-of-type {\n",
       "        vertical-align: middle;\n",
       "    }\n",
       "\n",
       "    .dataframe tbody tr th {\n",
       "        vertical-align: top;\n",
       "    }\n",
       "\n",
       "    .dataframe thead th {\n",
       "        text-align: right;\n",
       "    }\n",
       "</style>\n",
       "<table border=\"1\" class=\"dataframe\">\n",
       "  <thead>\n",
       "    <tr style=\"text-align: right;\">\n",
       "      <th></th>\n",
       "      <th>customer_age</th>\n",
       "      <th>balance</th>\n",
       "      <th>last_contact_duration</th>\n",
       "      <th>day_of_month</th>\n",
       "      <th>num_contacts_in_campaign</th>\n",
       "      <th>num_contacts_prev_campaign</th>\n",
       "      <th>job_type_blue-collar</th>\n",
       "      <th>job_type_entrepreneur</th>\n",
       "      <th>job_type_housemaid</th>\n",
       "      <th>job_type_management</th>\n",
       "      <th>...</th>\n",
       "      <th>month_jul</th>\n",
       "      <th>month_jun</th>\n",
       "      <th>month_mar</th>\n",
       "      <th>month_may</th>\n",
       "      <th>month_nov</th>\n",
       "      <th>month_oct</th>\n",
       "      <th>month_sep</th>\n",
       "      <th>prev_campaign_outcome_other</th>\n",
       "      <th>prev_campaign_outcome_success</th>\n",
       "      <th>prev_campaign_outcome_unknown</th>\n",
       "    </tr>\n",
       "  </thead>\n",
       "  <tbody>\n",
       "    <tr>\n",
       "      <th>0</th>\n",
       "      <td>28.0</td>\n",
       "      <td>285.0</td>\n",
       "      <td>849</td>\n",
       "      <td>26</td>\n",
       "      <td>4.0</td>\n",
       "      <td>0</td>\n",
       "      <td>0</td>\n",
       "      <td>0</td>\n",
       "      <td>0</td>\n",
       "      <td>1</td>\n",
       "      <td>...</td>\n",
       "      <td>0</td>\n",
       "      <td>1</td>\n",
       "      <td>0</td>\n",
       "      <td>0</td>\n",
       "      <td>0</td>\n",
       "      <td>0</td>\n",
       "      <td>0</td>\n",
       "      <td>0</td>\n",
       "      <td>0</td>\n",
       "      <td>1</td>\n",
       "    </tr>\n",
       "    <tr>\n",
       "      <th>1</th>\n",
       "      <td>46.0</td>\n",
       "      <td>656.0</td>\n",
       "      <td>990</td>\n",
       "      <td>5</td>\n",
       "      <td>4.0</td>\n",
       "      <td>0</td>\n",
       "      <td>0</td>\n",
       "      <td>0</td>\n",
       "      <td>0</td>\n",
       "      <td>0</td>\n",
       "      <td>...</td>\n",
       "      <td>0</td>\n",
       "      <td>0</td>\n",
       "      <td>0</td>\n",
       "      <td>0</td>\n",
       "      <td>0</td>\n",
       "      <td>0</td>\n",
       "      <td>0</td>\n",
       "      <td>0</td>\n",
       "      <td>0</td>\n",
       "      <td>1</td>\n",
       "    </tr>\n",
       "    <tr>\n",
       "      <th>2</th>\n",
       "      <td>34.0</td>\n",
       "      <td>2.0</td>\n",
       "      <td>886</td>\n",
       "      <td>20</td>\n",
       "      <td>3.0</td>\n",
       "      <td>0</td>\n",
       "      <td>0</td>\n",
       "      <td>0</td>\n",
       "      <td>0</td>\n",
       "      <td>0</td>\n",
       "      <td>...</td>\n",
       "      <td>0</td>\n",
       "      <td>0</td>\n",
       "      <td>0</td>\n",
       "      <td>1</td>\n",
       "      <td>0</td>\n",
       "      <td>0</td>\n",
       "      <td>0</td>\n",
       "      <td>0</td>\n",
       "      <td>0</td>\n",
       "      <td>1</td>\n",
       "    </tr>\n",
       "    <tr>\n",
       "      <th>3</th>\n",
       "      <td>65.0</td>\n",
       "      <td>2880.0</td>\n",
       "      <td>913</td>\n",
       "      <td>23</td>\n",
       "      <td>1.0</td>\n",
       "      <td>0</td>\n",
       "      <td>0</td>\n",
       "      <td>0</td>\n",
       "      <td>0</td>\n",
       "      <td>0</td>\n",
       "      <td>...</td>\n",
       "      <td>0</td>\n",
       "      <td>0</td>\n",
       "      <td>0</td>\n",
       "      <td>0</td>\n",
       "      <td>0</td>\n",
       "      <td>0</td>\n",
       "      <td>0</td>\n",
       "      <td>0</td>\n",
       "      <td>0</td>\n",
       "      <td>1</td>\n",
       "    </tr>\n",
       "    <tr>\n",
       "      <th>4</th>\n",
       "      <td>52.0</td>\n",
       "      <td>1779.0</td>\n",
       "      <td>703</td>\n",
       "      <td>19</td>\n",
       "      <td>3.0</td>\n",
       "      <td>1</td>\n",
       "      <td>1</td>\n",
       "      <td>0</td>\n",
       "      <td>0</td>\n",
       "      <td>0</td>\n",
       "      <td>...</td>\n",
       "      <td>0</td>\n",
       "      <td>0</td>\n",
       "      <td>0</td>\n",
       "      <td>0</td>\n",
       "      <td>1</td>\n",
       "      <td>0</td>\n",
       "      <td>0</td>\n",
       "      <td>0</td>\n",
       "      <td>0</td>\n",
       "      <td>0</td>\n",
       "    </tr>\n",
       "  </tbody>\n",
       "</table>\n",
       "<p>5 rows × 42 columns</p>\n",
       "</div>\n",
       "      <button class=\"colab-df-convert\" onclick=\"convertToInteractive('df-4d754e47-1e8e-41be-9dfd-227065944804')\"\n",
       "              title=\"Convert this dataframe to an interactive table.\"\n",
       "              style=\"display:none;\">\n",
       "        \n",
       "  <svg xmlns=\"http://www.w3.org/2000/svg\" height=\"24px\"viewBox=\"0 0 24 24\"\n",
       "       width=\"24px\">\n",
       "    <path d=\"M0 0h24v24H0V0z\" fill=\"none\"/>\n",
       "    <path d=\"M18.56 5.44l.94 2.06.94-2.06 2.06-.94-2.06-.94-.94-2.06-.94 2.06-2.06.94zm-11 1L8.5 8.5l.94-2.06 2.06-.94-2.06-.94L8.5 2.5l-.94 2.06-2.06.94zm10 10l.94 2.06.94-2.06 2.06-.94-2.06-.94-.94-2.06-.94 2.06-2.06.94z\"/><path d=\"M17.41 7.96l-1.37-1.37c-.4-.4-.92-.59-1.43-.59-.52 0-1.04.2-1.43.59L10.3 9.45l-7.72 7.72c-.78.78-.78 2.05 0 2.83L4 21.41c.39.39.9.59 1.41.59.51 0 1.02-.2 1.41-.59l7.78-7.78 2.81-2.81c.8-.78.8-2.07 0-2.86zM5.41 20L4 18.59l7.72-7.72 1.47 1.35L5.41 20z\"/>\n",
       "  </svg>\n",
       "      </button>\n",
       "      \n",
       "  <style>\n",
       "    .colab-df-container {\n",
       "      display:flex;\n",
       "      flex-wrap:wrap;\n",
       "      gap: 12px;\n",
       "    }\n",
       "\n",
       "    .colab-df-convert {\n",
       "      background-color: #E8F0FE;\n",
       "      border: none;\n",
       "      border-radius: 50%;\n",
       "      cursor: pointer;\n",
       "      display: none;\n",
       "      fill: #1967D2;\n",
       "      height: 32px;\n",
       "      padding: 0 0 0 0;\n",
       "      width: 32px;\n",
       "    }\n",
       "\n",
       "    .colab-df-convert:hover {\n",
       "      background-color: #E2EBFA;\n",
       "      box-shadow: 0px 1px 2px rgba(60, 64, 67, 0.3), 0px 1px 3px 1px rgba(60, 64, 67, 0.15);\n",
       "      fill: #174EA6;\n",
       "    }\n",
       "\n",
       "    [theme=dark] .colab-df-convert {\n",
       "      background-color: #3B4455;\n",
       "      fill: #D2E3FC;\n",
       "    }\n",
       "\n",
       "    [theme=dark] .colab-df-convert:hover {\n",
       "      background-color: #434B5C;\n",
       "      box-shadow: 0px 1px 3px 1px rgba(0, 0, 0, 0.15);\n",
       "      filter: drop-shadow(0px 1px 2px rgba(0, 0, 0, 0.3));\n",
       "      fill: #FFFFFF;\n",
       "    }\n",
       "  </style>\n",
       "\n",
       "      <script>\n",
       "        const buttonEl =\n",
       "          document.querySelector('#df-4d754e47-1e8e-41be-9dfd-227065944804 button.colab-df-convert');\n",
       "        buttonEl.style.display =\n",
       "          google.colab.kernel.accessAllowed ? 'block' : 'none';\n",
       "\n",
       "        async function convertToInteractive(key) {\n",
       "          const element = document.querySelector('#df-4d754e47-1e8e-41be-9dfd-227065944804');\n",
       "          const dataTable =\n",
       "            await google.colab.kernel.invokeFunction('convertToInteractive',\n",
       "                                                     [key], {});\n",
       "          if (!dataTable) return;\n",
       "\n",
       "          const docLinkHtml = 'Like what you see? Visit the ' +\n",
       "            '<a target=\"_blank\" href=https://colab.research.google.com/notebooks/data_table.ipynb>data table notebook</a>'\n",
       "            + ' to learn more about interactive tables.';\n",
       "          element.innerHTML = '';\n",
       "          dataTable['output_type'] = 'display_data';\n",
       "          await google.colab.output.renderOutput(dataTable, element);\n",
       "          const docLink = document.createElement('div');\n",
       "          docLink.innerHTML = docLinkHtml;\n",
       "          element.appendChild(docLink);\n",
       "        }\n",
       "      </script>\n",
       "    </div>\n",
       "  </div>\n",
       "  "
      ],
      "text/plain": [
       "   customer_age  balance  last_contact_duration  day_of_month  \\\n",
       "0          28.0    285.0                    849            26   \n",
       "1          46.0    656.0                    990             5   \n",
       "2          34.0      2.0                    886            20   \n",
       "3          65.0   2880.0                    913            23   \n",
       "4          52.0   1779.0                    703            19   \n",
       "\n",
       "   num_contacts_in_campaign  num_contacts_prev_campaign  job_type_blue-collar  \\\n",
       "0                       4.0                           0                     0   \n",
       "1                       4.0                           0                     0   \n",
       "2                       3.0                           0                     0   \n",
       "3                       1.0                           0                     0   \n",
       "4                       3.0                           1                     1   \n",
       "\n",
       "   job_type_entrepreneur  job_type_housemaid  job_type_management  ...  \\\n",
       "0                      0                   0                    1  ...   \n",
       "1                      0                   0                    0  ...   \n",
       "2                      0                   0                    0  ...   \n",
       "3                      0                   0                    0  ...   \n",
       "4                      0                   0                    0  ...   \n",
       "\n",
       "   month_jul  month_jun  month_mar  month_may  month_nov  month_oct  \\\n",
       "0          0          1          0          0          0          0   \n",
       "1          0          0          0          0          0          0   \n",
       "2          0          0          0          1          0          0   \n",
       "3          0          0          0          0          0          0   \n",
       "4          0          0          0          0          1          0   \n",
       "\n",
       "   month_sep  prev_campaign_outcome_other  prev_campaign_outcome_success  \\\n",
       "0          0                            0                              0   \n",
       "1          0                            0                              0   \n",
       "2          0                            0                              0   \n",
       "3          0                            0                              0   \n",
       "4          0                            0                              0   \n",
       "\n",
       "   prev_campaign_outcome_unknown  \n",
       "0                              1  \n",
       "1                              1  \n",
       "2                              1  \n",
       "3                              1  \n",
       "4                              0  \n",
       "\n",
       "[5 rows x 42 columns]"
      ]
     },
     "execution_count": 55,
     "metadata": {},
     "output_type": "execute_result"
    }
   ],
   "source": [
    "final.head()"
   ]
  },
  {
   "cell_type": "code",
   "execution_count": null,
   "metadata": {
    "id": "gqP9Jk0hvuWl"
   },
   "outputs": [],
   "source": [
    "final['customer_age']=normalizer.fit_transform(np.array(final['customer_age']).reshape(-1,1))\n",
    "final['num_contacts_in_campaign'] = normalizer.fit_transform(np.array(final['num_contacts_in_campaign']).reshape(-1,1))\n",
    "final['balance'] = normalizer.fit_transform(np.array(final['balance']).reshape(-1,1))\n",
    "final['day_of_month'] = normalizer.fit_transform(np.array(final['day_of_month']).reshape(-1,1))\n",
    "final['last_contact_duration'] = normalizer.fit_transform(np.array(final['last_contact_duration']).reshape(-1,1))"
   ]
  },
  {
   "cell_type": "code",
   "execution_count": null,
   "metadata": {
    "id": "EPvl4CeVvxNS"
   },
   "outputs": [],
   "source": [
    "final = final.loc[:,['customer_age', 'balance', 'day_of_month', 'last_contact_duration',\n",
    "       'num_contacts_in_campaign', 'num_contacts_prev_campaign',\n",
    "       'job_type_blue-collar', 'job_type_entrepreneur', 'job_type_housemaid',\n",
    "       'job_type_management', 'job_type_retired', 'job_type_self-employed',\n",
    "       'job_type_services', 'job_type_student', 'job_type_technician',\n",
    "       'job_type_unemployed', 'job_type_unknown', 'marital_married',\n",
    "       'marital_single', 'education_secondary', 'education_tertiary',\n",
    "       'education_unknown', 'default_yes', 'housing_loan_yes',\n",
    "       'personal_loan_unknown', 'personal_loan_yes',\n",
    "       'communication_type_telephone', 'communication_type_unknown',\n",
    "       'month_aug', 'month_dec', 'month_feb', 'month_jan', 'month_jul',\n",
    "       'month_jun', 'month_mar', 'month_may', 'month_nov', 'month_oct',\n",
    "       'month_sep', 'prev_campaign_outcome_other',\n",
    "       'prev_campaign_outcome_success', 'prev_campaign_outcome_unknown']]"
   ]
  },
  {
   "cell_type": "code",
   "execution_count": null,
   "metadata": {
    "id": "OR0w7tiav7JF"
   },
   "outputs": [],
   "source": [
    "pred = clf_best_model.predict(final)"
   ]
  },
  {
   "cell_type": "code",
   "execution_count": null,
   "metadata": {
    "colab": {
     "base_uri": "https://localhost:8080/"
    },
    "id": "kk8QqoL5wH6v",
    "outputId": "3be7afd7-2b4e-4d23-cc85-cad3ae12d954"
   },
   "outputs": [
    {
     "data": {
      "text/plain": [
       "(array([0, 1]), array([4982, 2742]))"
      ]
     },
     "execution_count": 60,
     "metadata": {},
     "output_type": "execute_result"
    }
   ],
   "source": [
    "np.unique(pred,return_counts=True)"
   ]
  },
  {
   "cell_type": "code",
   "execution_count": null,
   "metadata": {
    "id": "S8EFsPV-wLZf"
   },
   "outputs": [],
   "source": [
    "pred_proba=clf_best_model.predict_proba(final)"
   ]
  },
  {
   "cell_type": "code",
   "execution_count": null,
   "metadata": {
    "id": "LY6z6ZYCwVGe"
   },
   "outputs": [],
   "source": [
    "test['term_deposit']=pred"
   ]
  },
  {
   "cell_type": "code",
   "execution_count": null,
   "metadata": {
    "colab": {
     "base_uri": "https://localhost:8080/"
    },
    "id": "iMo802bawayd",
    "outputId": "d7dd0bcc-a08d-4bc1-ef17-e53786822e9b"
   },
   "outputs": [
    {
     "data": {
      "text/plain": [
       "array([[0.68852437, 0.31147563],\n",
       "       [0.6254612 , 0.37453878],\n",
       "       [0.5824297 , 0.4175703 ],\n",
       "       ...,\n",
       "       [0.6791896 , 0.32081038],\n",
       "       [0.22057807, 0.7794219 ],\n",
       "       [0.9248178 , 0.07518219]], dtype=float32)"
      ]
     },
     "execution_count": 63,
     "metadata": {},
     "output_type": "execute_result"
    }
   ],
   "source": [
    "pred_proba"
   ]
  },
  {
   "cell_type": "code",
   "execution_count": null,
   "metadata": {
    "colab": {
     "base_uri": "https://localhost:8080/"
    },
    "id": "JbbUn3k9w0e1",
    "outputId": "bd9ed3fe-7d32-4e4c-999a-2cc8f0ae433d"
   },
   "outputs": [
    {
     "data": {
      "text/plain": [
       "array([0, 0, 0, ..., 0, 1, 0])"
      ]
     },
     "execution_count": 67,
     "metadata": {},
     "output_type": "execute_result"
    }
   ],
   "source": [
    "pred"
   ]
  },
  {
   "cell_type": "code",
   "execution_count": null,
   "metadata": {
    "id": "WcgiEzlmwclj"
   },
   "outputs": [],
   "source": [
    "proba_yes = []\n",
    "for i in pred_proba:\n",
    "  proba_yes.append(i[1])"
   ]
  },
  {
   "cell_type": "code",
   "execution_count": null,
   "metadata": {
    "id": "PADPpiJpwiKI"
   },
   "outputs": [],
   "source": [
    "test['proba_yes'] = proba_yes"
   ]
  },
  {
   "cell_type": "code",
   "execution_count": null,
   "metadata": {
    "colab": {
     "base_uri": "https://localhost:8080/",
     "height": 270
    },
    "id": "Y2x6zLQnzNpd",
    "outputId": "00e04110-d4c2-4ea1-c82c-a278a60286cc"
   },
   "outputs": [
    {
     "data": {
      "text/html": [
       "\n",
       "  <div id=\"df-81b394ee-d289-440e-bbe9-f2bab2d79b74\">\n",
       "    <div class=\"colab-df-container\">\n",
       "      <div>\n",
       "<style scoped>\n",
       "    .dataframe tbody tr th:only-of-type {\n",
       "        vertical-align: middle;\n",
       "    }\n",
       "\n",
       "    .dataframe tbody tr th {\n",
       "        vertical-align: top;\n",
       "    }\n",
       "\n",
       "    .dataframe thead th {\n",
       "        text-align: right;\n",
       "    }\n",
       "</style>\n",
       "<table border=\"1\" class=\"dataframe\">\n",
       "  <thead>\n",
       "    <tr style=\"text-align: right;\">\n",
       "      <th></th>\n",
       "      <th>customer_id</th>\n",
       "      <th>customer_age</th>\n",
       "      <th>job_type</th>\n",
       "      <th>marital</th>\n",
       "      <th>education</th>\n",
       "      <th>default</th>\n",
       "      <th>balance</th>\n",
       "      <th>housing_loan</th>\n",
       "      <th>personal_loan</th>\n",
       "      <th>communication_type</th>\n",
       "      <th>last_contact_duration</th>\n",
       "      <th>day_of_month</th>\n",
       "      <th>month</th>\n",
       "      <th>num_contacts_in_campaign</th>\n",
       "      <th>num_contacts_prev_campaign</th>\n",
       "      <th>prev_campaign_outcome</th>\n",
       "      <th>term_deposit</th>\n",
       "      <th>proba_yes</th>\n",
       "    </tr>\n",
       "  </thead>\n",
       "  <tbody>\n",
       "    <tr>\n",
       "      <th>0</th>\n",
       "      <td>id_43823</td>\n",
       "      <td>28.0</td>\n",
       "      <td>management</td>\n",
       "      <td>single</td>\n",
       "      <td>tertiary</td>\n",
       "      <td>no</td>\n",
       "      <td>285.0</td>\n",
       "      <td>yes</td>\n",
       "      <td>no</td>\n",
       "      <td>unknown</td>\n",
       "      <td>849</td>\n",
       "      <td>26</td>\n",
       "      <td>jun</td>\n",
       "      <td>4.0</td>\n",
       "      <td>0</td>\n",
       "      <td>unknown</td>\n",
       "      <td>0</td>\n",
       "      <td>0.311476</td>\n",
       "    </tr>\n",
       "    <tr>\n",
       "      <th>1</th>\n",
       "      <td>id_10523</td>\n",
       "      <td>46.0</td>\n",
       "      <td>technician</td>\n",
       "      <td>married</td>\n",
       "      <td>secondary</td>\n",
       "      <td>no</td>\n",
       "      <td>656.0</td>\n",
       "      <td>no</td>\n",
       "      <td>no</td>\n",
       "      <td>cellular</td>\n",
       "      <td>990</td>\n",
       "      <td>5</td>\n",
       "      <td>feb</td>\n",
       "      <td>4.0</td>\n",
       "      <td>0</td>\n",
       "      <td>unknown</td>\n",
       "      <td>0</td>\n",
       "      <td>0.374539</td>\n",
       "    </tr>\n",
       "    <tr>\n",
       "      <th>2</th>\n",
       "      <td>id_43951</td>\n",
       "      <td>34.0</td>\n",
       "      <td>services</td>\n",
       "      <td>single</td>\n",
       "      <td>secondary</td>\n",
       "      <td>no</td>\n",
       "      <td>2.0</td>\n",
       "      <td>yes</td>\n",
       "      <td>no</td>\n",
       "      <td>unknown</td>\n",
       "      <td>886</td>\n",
       "      <td>20</td>\n",
       "      <td>may</td>\n",
       "      <td>3.0</td>\n",
       "      <td>0</td>\n",
       "      <td>unknown</td>\n",
       "      <td>0</td>\n",
       "      <td>0.417570</td>\n",
       "    </tr>\n",
       "    <tr>\n",
       "      <th>3</th>\n",
       "      <td>id_12681</td>\n",
       "      <td>65.0</td>\n",
       "      <td>retired</td>\n",
       "      <td>married</td>\n",
       "      <td>primary</td>\n",
       "      <td>no</td>\n",
       "      <td>2880.0</td>\n",
       "      <td>no</td>\n",
       "      <td>no</td>\n",
       "      <td>cellular</td>\n",
       "      <td>913</td>\n",
       "      <td>23</td>\n",
       "      <td>apr</td>\n",
       "      <td>1.0</td>\n",
       "      <td>0</td>\n",
       "      <td>unknown</td>\n",
       "      <td>1</td>\n",
       "      <td>0.572879</td>\n",
       "    </tr>\n",
       "    <tr>\n",
       "      <th>4</th>\n",
       "      <td>id_2153</td>\n",
       "      <td>52.0</td>\n",
       "      <td>blue-collar</td>\n",
       "      <td>married</td>\n",
       "      <td>tertiary</td>\n",
       "      <td>no</td>\n",
       "      <td>1779.0</td>\n",
       "      <td>no</td>\n",
       "      <td>no</td>\n",
       "      <td>cellular</td>\n",
       "      <td>703</td>\n",
       "      <td>19</td>\n",
       "      <td>nov</td>\n",
       "      <td>3.0</td>\n",
       "      <td>1</td>\n",
       "      <td>failure</td>\n",
       "      <td>1</td>\n",
       "      <td>0.774162</td>\n",
       "    </tr>\n",
       "  </tbody>\n",
       "</table>\n",
       "</div>\n",
       "      <button class=\"colab-df-convert\" onclick=\"convertToInteractive('df-81b394ee-d289-440e-bbe9-f2bab2d79b74')\"\n",
       "              title=\"Convert this dataframe to an interactive table.\"\n",
       "              style=\"display:none;\">\n",
       "        \n",
       "  <svg xmlns=\"http://www.w3.org/2000/svg\" height=\"24px\"viewBox=\"0 0 24 24\"\n",
       "       width=\"24px\">\n",
       "    <path d=\"M0 0h24v24H0V0z\" fill=\"none\"/>\n",
       "    <path d=\"M18.56 5.44l.94 2.06.94-2.06 2.06-.94-2.06-.94-.94-2.06-.94 2.06-2.06.94zm-11 1L8.5 8.5l.94-2.06 2.06-.94-2.06-.94L8.5 2.5l-.94 2.06-2.06.94zm10 10l.94 2.06.94-2.06 2.06-.94-2.06-.94-.94-2.06-.94 2.06-2.06.94z\"/><path d=\"M17.41 7.96l-1.37-1.37c-.4-.4-.92-.59-1.43-.59-.52 0-1.04.2-1.43.59L10.3 9.45l-7.72 7.72c-.78.78-.78 2.05 0 2.83L4 21.41c.39.39.9.59 1.41.59.51 0 1.02-.2 1.41-.59l7.78-7.78 2.81-2.81c.8-.78.8-2.07 0-2.86zM5.41 20L4 18.59l7.72-7.72 1.47 1.35L5.41 20z\"/>\n",
       "  </svg>\n",
       "      </button>\n",
       "      \n",
       "  <style>\n",
       "    .colab-df-container {\n",
       "      display:flex;\n",
       "      flex-wrap:wrap;\n",
       "      gap: 12px;\n",
       "    }\n",
       "\n",
       "    .colab-df-convert {\n",
       "      background-color: #E8F0FE;\n",
       "      border: none;\n",
       "      border-radius: 50%;\n",
       "      cursor: pointer;\n",
       "      display: none;\n",
       "      fill: #1967D2;\n",
       "      height: 32px;\n",
       "      padding: 0 0 0 0;\n",
       "      width: 32px;\n",
       "    }\n",
       "\n",
       "    .colab-df-convert:hover {\n",
       "      background-color: #E2EBFA;\n",
       "      box-shadow: 0px 1px 2px rgba(60, 64, 67, 0.3), 0px 1px 3px 1px rgba(60, 64, 67, 0.15);\n",
       "      fill: #174EA6;\n",
       "    }\n",
       "\n",
       "    [theme=dark] .colab-df-convert {\n",
       "      background-color: #3B4455;\n",
       "      fill: #D2E3FC;\n",
       "    }\n",
       "\n",
       "    [theme=dark] .colab-df-convert:hover {\n",
       "      background-color: #434B5C;\n",
       "      box-shadow: 0px 1px 3px 1px rgba(0, 0, 0, 0.15);\n",
       "      filter: drop-shadow(0px 1px 2px rgba(0, 0, 0, 0.3));\n",
       "      fill: #FFFFFF;\n",
       "    }\n",
       "  </style>\n",
       "\n",
       "      <script>\n",
       "        const buttonEl =\n",
       "          document.querySelector('#df-81b394ee-d289-440e-bbe9-f2bab2d79b74 button.colab-df-convert');\n",
       "        buttonEl.style.display =\n",
       "          google.colab.kernel.accessAllowed ? 'block' : 'none';\n",
       "\n",
       "        async function convertToInteractive(key) {\n",
       "          const element = document.querySelector('#df-81b394ee-d289-440e-bbe9-f2bab2d79b74');\n",
       "          const dataTable =\n",
       "            await google.colab.kernel.invokeFunction('convertToInteractive',\n",
       "                                                     [key], {});\n",
       "          if (!dataTable) return;\n",
       "\n",
       "          const docLinkHtml = 'Like what you see? Visit the ' +\n",
       "            '<a target=\"_blank\" href=https://colab.research.google.com/notebooks/data_table.ipynb>data table notebook</a>'\n",
       "            + ' to learn more about interactive tables.';\n",
       "          element.innerHTML = '';\n",
       "          dataTable['output_type'] = 'display_data';\n",
       "          await google.colab.output.renderOutput(dataTable, element);\n",
       "          const docLink = document.createElement('div');\n",
       "          docLink.innerHTML = docLinkHtml;\n",
       "          element.appendChild(docLink);\n",
       "        }\n",
       "      </script>\n",
       "    </div>\n",
       "  </div>\n",
       "  "
      ],
      "text/plain": [
       "  customer_id  customer_age     job_type  marital  education default  balance  \\\n",
       "0    id_43823          28.0   management   single   tertiary      no    285.0   \n",
       "1    id_10523          46.0   technician  married  secondary      no    656.0   \n",
       "2    id_43951          34.0     services   single  secondary      no      2.0   \n",
       "3    id_12681          65.0      retired  married    primary      no   2880.0   \n",
       "4     id_2153          52.0  blue-collar  married   tertiary      no   1779.0   \n",
       "\n",
       "  housing_loan personal_loan communication_type  last_contact_duration  \\\n",
       "0          yes            no            unknown                    849   \n",
       "1           no            no           cellular                    990   \n",
       "2          yes            no            unknown                    886   \n",
       "3           no            no           cellular                    913   \n",
       "4           no            no           cellular                    703   \n",
       "\n",
       "   day_of_month month  num_contacts_in_campaign  num_contacts_prev_campaign  \\\n",
       "0            26   jun                       4.0                           0   \n",
       "1             5   feb                       4.0                           0   \n",
       "2            20   may                       3.0                           0   \n",
       "3            23   apr                       1.0                           0   \n",
       "4            19   nov                       3.0                           1   \n",
       "\n",
       "  prev_campaign_outcome  term_deposit  proba_yes  \n",
       "0               unknown             0   0.311476  \n",
       "1               unknown             0   0.374539  \n",
       "2               unknown             0   0.417570  \n",
       "3               unknown             1   0.572879  \n",
       "4               failure             1   0.774162  "
      ]
     },
     "execution_count": 72,
     "metadata": {},
     "output_type": "execute_result"
    }
   ],
   "source": [
    "test.head()"
   ]
  },
  {
   "cell_type": "code",
   "execution_count": null,
   "metadata": {
    "id": "WzoSnTqGzWuz"
   },
   "outputs": [],
   "source": [
    "test.to_csv('predicted.csv')"
   ]
  },
  {
   "cell_type": "code",
   "execution_count": null,
   "metadata": {
    "id": "XlJz7djPznMA"
   },
   "outputs": [],
   "source": [
    "adarsh = pd.read_excel('/content/test_predicted.xlsx')"
   ]
  },
  {
   "cell_type": "code",
   "execution_count": null,
   "metadata": {
    "colab": {
     "base_uri": "https://localhost:8080/",
     "height": 386
    },
    "id": "lQEKQ7SQ2DqT",
    "outputId": "ef1b9d04-bc9e-451d-fbaa-2626e9a82e76"
   },
   "outputs": [
    {
     "data": {
      "text/html": [
       "\n",
       "  <div id=\"df-541c55f6-e76d-4131-bcf4-df6bf099f640\">\n",
       "    <div class=\"colab-df-container\">\n",
       "      <div>\n",
       "<style scoped>\n",
       "    .dataframe tbody tr th:only-of-type {\n",
       "        vertical-align: middle;\n",
       "    }\n",
       "\n",
       "    .dataframe tbody tr th {\n",
       "        vertical-align: top;\n",
       "    }\n",
       "\n",
       "    .dataframe thead th {\n",
       "        text-align: right;\n",
       "    }\n",
       "</style>\n",
       "<table border=\"1\" class=\"dataframe\">\n",
       "  <thead>\n",
       "    <tr style=\"text-align: right;\">\n",
       "      <th></th>\n",
       "      <th>customer_id</th>\n",
       "      <th>customer_age</th>\n",
       "      <th>job_type</th>\n",
       "      <th>marital</th>\n",
       "      <th>education</th>\n",
       "      <th>default</th>\n",
       "      <th>balance</th>\n",
       "      <th>housing_loan</th>\n",
       "      <th>personal_loan</th>\n",
       "      <th>communication_type</th>\n",
       "      <th>...</th>\n",
       "      <th>prev_campaign_outcome</th>\n",
       "      <th>rf_pred</th>\n",
       "      <th>svc_pred</th>\n",
       "      <th>xgb_pred</th>\n",
       "      <th>knn_pred</th>\n",
       "      <th>cnb_pred</th>\n",
       "      <th>xgb_proba</th>\n",
       "      <th>rf_proba</th>\n",
       "      <th>knn_proba</th>\n",
       "      <th>cnb_proba</th>\n",
       "    </tr>\n",
       "  </thead>\n",
       "  <tbody>\n",
       "    <tr>\n",
       "      <th>0</th>\n",
       "      <td>id_41602</td>\n",
       "      <td>30.0</td>\n",
       "      <td>services</td>\n",
       "      <td>married</td>\n",
       "      <td>secondary</td>\n",
       "      <td>no</td>\n",
       "      <td>412</td>\n",
       "      <td>yes</td>\n",
       "      <td>no</td>\n",
       "      <td>unknown</td>\n",
       "      <td>...</td>\n",
       "      <td>unknown</td>\n",
       "      <td>0</td>\n",
       "      <td>0</td>\n",
       "      <td>0</td>\n",
       "      <td>0</td>\n",
       "      <td>0</td>\n",
       "      <td>[0.99881214 0.00118787]</td>\n",
       "      <td>[0.88 0.12]</td>\n",
       "      <td>[1. 0.]</td>\n",
       "      <td>[0.99121983 0.00878017]</td>\n",
       "    </tr>\n",
       "    <tr>\n",
       "      <th>1</th>\n",
       "      <td>id_20926</td>\n",
       "      <td>34.0</td>\n",
       "      <td>entrepreneur</td>\n",
       "      <td>married</td>\n",
       "      <td>secondary</td>\n",
       "      <td>no</td>\n",
       "      <td>3115</td>\n",
       "      <td>yes</td>\n",
       "      <td>no</td>\n",
       "      <td>cellular</td>\n",
       "      <td>...</td>\n",
       "      <td>failure</td>\n",
       "      <td>0</td>\n",
       "      <td>0</td>\n",
       "      <td>0</td>\n",
       "      <td>1</td>\n",
       "      <td>0</td>\n",
       "      <td>[0.98641914 0.01358083]</td>\n",
       "      <td>[0.82 0.18]</td>\n",
       "      <td>[0.33333333 0.66666667]</td>\n",
       "      <td>[0.6676755 0.3323245]</td>\n",
       "    </tr>\n",
       "    <tr>\n",
       "      <th>2</th>\n",
       "      <td>id_10463</td>\n",
       "      <td>40.0</td>\n",
       "      <td>blue-collar</td>\n",
       "      <td>single</td>\n",
       "      <td>primary</td>\n",
       "      <td>no</td>\n",
       "      <td>3380</td>\n",
       "      <td>yes</td>\n",
       "      <td>no</td>\n",
       "      <td>telephone</td>\n",
       "      <td>...</td>\n",
       "      <td>unknown</td>\n",
       "      <td>0</td>\n",
       "      <td>0</td>\n",
       "      <td>0</td>\n",
       "      <td>0</td>\n",
       "      <td>0</td>\n",
       "      <td>[0.97772604 0.02227394]</td>\n",
       "      <td>[0.73 0.27]</td>\n",
       "      <td>[1. 0.]</td>\n",
       "      <td>[0.89274192 0.10725808]</td>\n",
       "    </tr>\n",
       "    <tr>\n",
       "      <th>3</th>\n",
       "      <td>id_25779</td>\n",
       "      <td>51.0</td>\n",
       "      <td>management</td>\n",
       "      <td>married</td>\n",
       "      <td>tertiary</td>\n",
       "      <td>no</td>\n",
       "      <td>1886</td>\n",
       "      <td>no</td>\n",
       "      <td>no</td>\n",
       "      <td>cellular</td>\n",
       "      <td>...</td>\n",
       "      <td>unknown</td>\n",
       "      <td>0</td>\n",
       "      <td>0</td>\n",
       "      <td>0</td>\n",
       "      <td>0</td>\n",
       "      <td>1</td>\n",
       "      <td>[0.9554882 0.0445118]</td>\n",
       "      <td>[0.54 0.46]</td>\n",
       "      <td>[0.66666667 0.33333333]</td>\n",
       "      <td>[0.45029139 0.54970861]</td>\n",
       "    </tr>\n",
       "    <tr>\n",
       "      <th>4</th>\n",
       "      <td>id_13459</td>\n",
       "      <td>30.0</td>\n",
       "      <td>self-employed</td>\n",
       "      <td>married</td>\n",
       "      <td>secondary</td>\n",
       "      <td>no</td>\n",
       "      <td>580</td>\n",
       "      <td>yes</td>\n",
       "      <td>no</td>\n",
       "      <td>cellular</td>\n",
       "      <td>...</td>\n",
       "      <td>failure</td>\n",
       "      <td>0</td>\n",
       "      <td>0</td>\n",
       "      <td>0</td>\n",
       "      <td>1</td>\n",
       "      <td>1</td>\n",
       "      <td>[0.9319287 0.0680713]</td>\n",
       "      <td>[0.54 0.46]</td>\n",
       "      <td>[0.33333333 0.66666667]</td>\n",
       "      <td>[0.06033406 0.93966594]</td>\n",
       "    </tr>\n",
       "  </tbody>\n",
       "</table>\n",
       "<p>5 rows × 25 columns</p>\n",
       "</div>\n",
       "      <button class=\"colab-df-convert\" onclick=\"convertToInteractive('df-541c55f6-e76d-4131-bcf4-df6bf099f640')\"\n",
       "              title=\"Convert this dataframe to an interactive table.\"\n",
       "              style=\"display:none;\">\n",
       "        \n",
       "  <svg xmlns=\"http://www.w3.org/2000/svg\" height=\"24px\"viewBox=\"0 0 24 24\"\n",
       "       width=\"24px\">\n",
       "    <path d=\"M0 0h24v24H0V0z\" fill=\"none\"/>\n",
       "    <path d=\"M18.56 5.44l.94 2.06.94-2.06 2.06-.94-2.06-.94-.94-2.06-.94 2.06-2.06.94zm-11 1L8.5 8.5l.94-2.06 2.06-.94-2.06-.94L8.5 2.5l-.94 2.06-2.06.94zm10 10l.94 2.06.94-2.06 2.06-.94-2.06-.94-.94-2.06-.94 2.06-2.06.94z\"/><path d=\"M17.41 7.96l-1.37-1.37c-.4-.4-.92-.59-1.43-.59-.52 0-1.04.2-1.43.59L10.3 9.45l-7.72 7.72c-.78.78-.78 2.05 0 2.83L4 21.41c.39.39.9.59 1.41.59.51 0 1.02-.2 1.41-.59l7.78-7.78 2.81-2.81c.8-.78.8-2.07 0-2.86zM5.41 20L4 18.59l7.72-7.72 1.47 1.35L5.41 20z\"/>\n",
       "  </svg>\n",
       "      </button>\n",
       "      \n",
       "  <style>\n",
       "    .colab-df-container {\n",
       "      display:flex;\n",
       "      flex-wrap:wrap;\n",
       "      gap: 12px;\n",
       "    }\n",
       "\n",
       "    .colab-df-convert {\n",
       "      background-color: #E8F0FE;\n",
       "      border: none;\n",
       "      border-radius: 50%;\n",
       "      cursor: pointer;\n",
       "      display: none;\n",
       "      fill: #1967D2;\n",
       "      height: 32px;\n",
       "      padding: 0 0 0 0;\n",
       "      width: 32px;\n",
       "    }\n",
       "\n",
       "    .colab-df-convert:hover {\n",
       "      background-color: #E2EBFA;\n",
       "      box-shadow: 0px 1px 2px rgba(60, 64, 67, 0.3), 0px 1px 3px 1px rgba(60, 64, 67, 0.15);\n",
       "      fill: #174EA6;\n",
       "    }\n",
       "\n",
       "    [theme=dark] .colab-df-convert {\n",
       "      background-color: #3B4455;\n",
       "      fill: #D2E3FC;\n",
       "    }\n",
       "\n",
       "    [theme=dark] .colab-df-convert:hover {\n",
       "      background-color: #434B5C;\n",
       "      box-shadow: 0px 1px 3px 1px rgba(0, 0, 0, 0.15);\n",
       "      filter: drop-shadow(0px 1px 2px rgba(0, 0, 0, 0.3));\n",
       "      fill: #FFFFFF;\n",
       "    }\n",
       "  </style>\n",
       "\n",
       "      <script>\n",
       "        const buttonEl =\n",
       "          document.querySelector('#df-541c55f6-e76d-4131-bcf4-df6bf099f640 button.colab-df-convert');\n",
       "        buttonEl.style.display =\n",
       "          google.colab.kernel.accessAllowed ? 'block' : 'none';\n",
       "\n",
       "        async function convertToInteractive(key) {\n",
       "          const element = document.querySelector('#df-541c55f6-e76d-4131-bcf4-df6bf099f640');\n",
       "          const dataTable =\n",
       "            await google.colab.kernel.invokeFunction('convertToInteractive',\n",
       "                                                     [key], {});\n",
       "          if (!dataTable) return;\n",
       "\n",
       "          const docLinkHtml = 'Like what you see? Visit the ' +\n",
       "            '<a target=\"_blank\" href=https://colab.research.google.com/notebooks/data_table.ipynb>data table notebook</a>'\n",
       "            + ' to learn more about interactive tables.';\n",
       "          element.innerHTML = '';\n",
       "          dataTable['output_type'] = 'display_data';\n",
       "          await google.colab.output.renderOutput(dataTable, element);\n",
       "          const docLink = document.createElement('div');\n",
       "          docLink.innerHTML = docLinkHtml;\n",
       "          element.appendChild(docLink);\n",
       "        }\n",
       "      </script>\n",
       "    </div>\n",
       "  </div>\n",
       "  "
      ],
      "text/plain": [
       "  customer_id  customer_age       job_type  marital  education default  \\\n",
       "0    id_41602          30.0       services  married  secondary      no   \n",
       "1    id_20926          34.0   entrepreneur  married  secondary      no   \n",
       "2    id_10463          40.0    blue-collar   single    primary      no   \n",
       "3    id_25779          51.0     management  married   tertiary      no   \n",
       "4    id_13459          30.0  self-employed  married  secondary      no   \n",
       "\n",
       "   balance housing_loan personal_loan communication_type  ...  \\\n",
       "0      412          yes            no            unknown  ...   \n",
       "1     3115          yes            no           cellular  ...   \n",
       "2     3380          yes            no          telephone  ...   \n",
       "3     1886           no            no           cellular  ...   \n",
       "4      580          yes            no           cellular  ...   \n",
       "\n",
       "   prev_campaign_outcome  rf_pred svc_pred  xgb_pred  knn_pred cnb_pred  \\\n",
       "0                unknown        0        0         0         0        0   \n",
       "1                failure        0        0         0         1        0   \n",
       "2                unknown        0        0         0         0        0   \n",
       "3                unknown        0        0         0         0        1   \n",
       "4                failure        0        0         0         1        1   \n",
       "\n",
       "                 xgb_proba     rf_proba                knn_proba  \\\n",
       "0  [0.99881214 0.00118787]  [0.88 0.12]                  [1. 0.]   \n",
       "1  [0.98641914 0.01358083]  [0.82 0.18]  [0.33333333 0.66666667]   \n",
       "2  [0.97772604 0.02227394]  [0.73 0.27]                  [1. 0.]   \n",
       "3    [0.9554882 0.0445118]  [0.54 0.46]  [0.66666667 0.33333333]   \n",
       "4    [0.9319287 0.0680713]  [0.54 0.46]  [0.33333333 0.66666667]   \n",
       "\n",
       "                 cnb_proba  \n",
       "0  [0.99121983 0.00878017]  \n",
       "1    [0.6676755 0.3323245]  \n",
       "2  [0.89274192 0.10725808]  \n",
       "3  [0.45029139 0.54970861]  \n",
       "4  [0.06033406 0.93966594]  \n",
       "\n",
       "[5 rows x 25 columns]"
      ]
     },
     "execution_count": 75,
     "metadata": {},
     "output_type": "execute_result"
    }
   ],
   "source": [
    "adarsh.head()"
   ]
  },
  {
   "cell_type": "code",
   "execution_count": null,
   "metadata": {
    "id": "dtnXttp72JoA"
   },
   "outputs": [],
   "source": [
    "a=adarsh['xgb_proba'][0].split(' ')"
   ]
  },
  {
   "cell_type": "code",
   "execution_count": null,
   "metadata": {
    "id": "6CLfHvSn2N_g"
   },
   "outputs": [],
   "source": [
    "xgb_proba_yes=[]\n",
    "for i in adarsh['xgb_proba']:\n",
    "  a=i.split(' ')\n",
    "  x=a[1].replace(']','')\n",
    "  xgb_proba_yes.append(x)"
   ]
  },
  {
   "cell_type": "code",
   "execution_count": null,
   "metadata": {
    "colab": {
     "base_uri": "https://localhost:8080/",
     "height": 200
    },
    "id": "57BFiHQs2cVI",
    "outputId": "a698ba76-a79b-4ccb-d5a5-020f9d0c50b7"
   },
   "outputs": [
    {
     "ename": "ValueError",
     "evalue": "ignored",
     "output_type": "error",
     "traceback": [
      "\u001b[0;31m---------------------------------------------------------------------------\u001b[0m",
      "\u001b[0;31mValueError\u001b[0m                                Traceback (most recent call last)",
      "\u001b[0;32m<ipython-input-91-ca55394c680d>\u001b[0m in \u001b[0;36m<module>\u001b[0;34m()\u001b[0m\n\u001b[1;32m      1\u001b[0m \u001b[0mproba_yes\u001b[0m\u001b[0;34m=\u001b[0m\u001b[0;34m[\u001b[0m\u001b[0;34m]\u001b[0m\u001b[0;34m\u001b[0m\u001b[0;34m\u001b[0m\u001b[0m\n\u001b[1;32m      2\u001b[0m \u001b[0;32mfor\u001b[0m \u001b[0mi\u001b[0m \u001b[0;32min\u001b[0m \u001b[0mrange\u001b[0m\u001b[0;34m(\u001b[0m\u001b[0mlen\u001b[0m\u001b[0;34m(\u001b[0m\u001b[0mxgb_proba_yes\u001b[0m\u001b[0;34m)\u001b[0m\u001b[0;34m)\u001b[0m\u001b[0;34m:\u001b[0m\u001b[0;34m\u001b[0m\u001b[0;34m\u001b[0m\u001b[0m\n\u001b[0;32m----> 3\u001b[0;31m   \u001b[0mproba_yes\u001b[0m\u001b[0;34m.\u001b[0m\u001b[0mappend\u001b[0m\u001b[0;34m(\u001b[0m\u001b[0mfloat\u001b[0m\u001b[0;34m(\u001b[0m\u001b[0mxgb_proba_yes\u001b[0m\u001b[0;34m[\u001b[0m\u001b[0mi\u001b[0m\u001b[0;34m]\u001b[0m\u001b[0;34m)\u001b[0m\u001b[0;34m)\u001b[0m\u001b[0;34m\u001b[0m\u001b[0;34m\u001b[0m\u001b[0m\n\u001b[0m",
      "\u001b[0;31mValueError\u001b[0m: could not convert string to float: "
     ]
    }
   ],
   "source": [
    "proba_yes=[]\n",
    "for i in range(len(xgb_proba_yes)):\n",
    "  proba_yes.append(float(xgb_proba_yes[i]))"
   ]
  },
  {
   "cell_type": "code",
   "execution_count": null,
   "metadata": {
    "colab": {
     "base_uri": "https://localhost:8080/"
    },
    "id": "5Tg-Mg4A3k9C",
    "outputId": "21b3f672-51f0-4d2f-93f4-0204879b76f1"
   },
   "outputs": [
    {
     "data": {
      "text/plain": [
       "0.65395033"
      ]
     },
     "execution_count": 92,
     "metadata": {},
     "output_type": "execute_result"
    }
   ],
   "source": [
    "float(xgb_proba_yes[34])"
   ]
  },
  {
   "cell_type": "code",
   "execution_count": null,
   "metadata": {
    "id": "5isaTKpw4gB5"
   },
   "outputs": [],
   "source": [
    "adarsh['proba_yes']=xgb_proba_yes"
   ]
  },
  {
   "cell_type": "code",
   "execution_count": null,
   "metadata": {
    "id": "uHrFlzjr4lOB"
   },
   "outputs": [],
   "source": [
    "adarsh.to_csv('wejfnf.csv')"
   ]
  },
  {
   "cell_type": "code",
   "execution_count": null,
   "metadata": {
    "id": "75F07h5b45KL"
   },
   "outputs": [],
   "source": []
  }
 ],
 "metadata": {
  "colab": {
   "name": "Untitled13.ipynb",
   "provenance": []
  },
  "kernelspec": {
   "display_name": "Python 3",
   "language": "python",
   "name": "python3"
  },
  "language_info": {
   "codemirror_mode": {
    "name": "ipython",
    "version": 3
   },
   "file_extension": ".py",
   "mimetype": "text/x-python",
   "name": "python",
   "nbconvert_exporter": "python",
   "pygments_lexer": "ipython3",
   "version": "3.8.8"
  }
 },
 "nbformat": 4,
 "nbformat_minor": 1
}
